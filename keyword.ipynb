{
 "cells": [
  {
   "cell_type": "code",
   "execution_count": 183,
   "metadata": {},
   "outputs": [
    {
     "name": "stdout",
     "output_type": "stream",
     "text": [
      "Abnormalities/ Deficiencies found ( In Brief)\n",
      "---------------------------------------------\n",
      "broken\n",
      "matched ['br', '225-gaurd', 'rail', 'bend', 'portion', 'broken', ',br', '226', '3', 'screw', 'spike', 'missing']\n",
      "matched ['1.', 'Coach', 'No.', '178901', 'LWACCN', '-', 'North', 'end', 'trolley', 'Brake', 'cylinder', 'flexible', 'pipe', 'found', 'leaking\\n', '2.', 'Coach', 'No.', '201890', 'LWACCN', '-', 'South', 'end', 'side', 'resistance', 'cable', 'broken']\n",
      "matched ['DG', 'Set', 'shed', 'broken', 'same', 'informed', 'to', '\\nSSE/IOW/IND', 'to', 'attend']\n",
      "matched ['1.', 'Traffic', 'LC', '101between', 'KNKT', '&', 'SDD(Single', 'Line', 'Section', 'of', 'RJT', 'Division)', '', 'was', 'opened', 'but', 'Red', 'Flag', 'was', 'placed', 'only', 'at', 'KNKT', 'side', '.', '2.Fringe', 'of', 'both', 'sides', 'Booms', 'were', 'broken', 'and', 'damaged', 'and', 'Stop', 'Boards', 'of', 'Booms', 'were', 'also', 'in', 'poor', 'condition', 'and', 'non-', 'reflective.']\n",
      "matched ['(1)', 'Yellow', 'and', 'Black', 'colour', 'of', 'retro', 'reflective', 'strips', 'found', 'faded', 'on', 'sliding', 'Boom,\\n(2)', 'Surface', 'of', 'gate', 'lodge', 'found', 'broken', 'in', 'some', 'place,\\n(3)', 'Cover', 'shed', 'not', 'provided', 'over', 'lever', 'frame/', 'Winch', 'machine']\n",
      "repair\n",
      "matched ['Seepage', 'issue', 'noticed', 'in', 'Panel', 'room', '&', 'relay', 'room', 'on', 'Two', 'side', 'walls,', 'needs', 'repair', 'and', 'whitwash', 'before', 'monsoon']\n",
      "matched ['02)', 'water', 'motar', 'of', 'CHM', 'Station', 'under', 'repair', 'to', 'SSE', '(POWER', '-UDN', ')', 'S', 'ince', 'last', '06', 'month', 'resulted', 'water', 'problem', 'at', 'CHM,', 'station.']\n",
      "matched ['1.South', 'side', 'speed', 'indicator', 'board', 'was', 'faded', 'badly,', 'needs', 'to', 'be', 'painted.', '', '2.Road', 'surface', 'between', 'both', 'height', 'gauge', 'needs', 'to', 'be', 'repaired.', '3.', 'North', 'side', 'speed', 'breaker', 'needs', 'repair', 'as', 'almost', 'flat.4.Stop', 'disc', 'provided', 'on', 'emergency', 'chain', 'was', 'not', 'retro', 'reflective\\n5', 'There', 'is', 'no', 'facility', 'of', 'potable', 'water', 'and', 'toilet', 'at', 'gate', 'lodge\\n\\n']\n",
      "matched ['Inspection', 'of', 'LC', '192', '(DHWS-NLI', 'Section)\\n1.Height', 'of', 'west', 'side', 'barrier', 'found', '110', 'mm\\n2.', 'West', 'side', 'barrier', 'needs', 'repair', 'as', 'it', 'is', 'not', 'locked', 'sometimes.']\n"
     ]
    }
   ],
   "source": [
    "import pandas as pd\n",
    "\n",
    "file = pd.read_excel('/home/ronit/Downloads/Station.xls', sheet_name=\"07.02.2022\")\n",
    "# print(file)\n",
    "cols  = file.columns.to_list()\n",
    "col = cols[7]\n",
    "print(col)\n",
    "print('---------------------------------------------')\n",
    "list =[]\n",
    "data = file['Abnormalities/ Deficiencies found ( In Brief)']\n",
    "# print(data)\n",
    "list.append(data)\n",
    "# print(list)\n",
    "# for i in list:\n",
    "#     k = i[81]\n",
    "#     s = k.split(' ')\n",
    "#     print(s)\n",
    "#     if 'Broken' in s:\n",
    "#         print('matched')\n",
    "#         print(k)\n",
    "#     else:\n",
    "#         print('matched not')\n",
    "\n",
    "list1 = data.astype(str).str.split(' ')\n",
    "# print(list1)\n",
    "match = ['broken','repair']\n",
    "for matches in match:\n",
    "    print(matches)\n",
    "    for i in list1:\n",
    "#         print(i)\n",
    "        if  matches in i:\n",
    "            print('matched',i)\n",
    "    \n",
    "        \n",
    "    \n",
    "# for i,index in enumerate(list1):\n",
    "#     d = i,index\n",
    "# #     print(d)\n",
    "#     k = index[81:93]\n",
    "#     for ik in k:\n",
    "# #         print(ik)\n",
    "    \n",
    "# #         s = ik.split(' ')\n",
    "#     #     print(s)\n",
    "#         if 'Broken' in s:\n",
    "#             print('matched')\n",
    "#             print(k)\n",
    "#         else:\n",
    "#             print('matched not')\n",
    "        \n",
    "\n",
    "   \n"
   ]
  },
  {
   "cell_type": "code",
   "execution_count": null,
   "metadata": {},
   "outputs": [],
   "source": []
  }
 ],
 "metadata": {
  "kernelspec": {
   "display_name": "Python 3 (ipykernel)",
   "language": "python",
   "name": "python3"
  },
  "language_info": {
   "codemirror_mode": {
    "name": "ipython",
    "version": 3
   },
   "file_extension": ".py",
   "mimetype": "text/x-python",
   "name": "python",
   "nbconvert_exporter": "python",
   "pygments_lexer": "ipython3",
   "version": "3.8.10"
  }
 },
 "nbformat": 4,
 "nbformat_minor": 4
}
